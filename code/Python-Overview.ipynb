{
 "cells": [
  {
   "cell_type": "markdown",
   "id": "16bf24fb",
   "metadata": {},
   "source": [
    "Python is a popular programming language for processing text data. It is also relatively easy to learn to do some basic text analysis in Python ([\"We chose Python because it has a shallow learning curve, its syntax and semantics are transparent, and it has good string-handling functionality.\"](https://www.nltk.org/book/ch00.html)). It is free and available on all the major operating systems, with a lot of support ecosystem. So, I will use Python in this course, and this \"Notebook\" illustrates some basic functionalities of Python. Check out https://www.python.org/about/gettingstarted/ for how to install Python. \n",
    "\n",
    "There are many ways of writing python code and running it on your computer. Some people write the code from their terminal, in a plain text format. Some use Integrated Development Environments (e.g., PyCharm, Spyder, Atom). More recently, people are using interactive environments called \"Notebook\" (e.g., Jupyter, Google Colab) etc. This is a Jupyter Notebook.\n",
    "\n",
    "The goal of this notebook is to introduce some basic Python concepts. \n",
    "\n",
    "Readings: Chapters 1--10 in [Python for Everybody book](https://www.py4e.com/html3/) \n",
    " "
   ]
  },
  {
   "cell_type": "markdown",
   "id": "8139cdcf",
   "metadata": {},
   "source": [
    "# Variables\n",
    "\n",
    "(Chapter 1-2 in py4e)"
   ]
  },
  {
   "cell_type": "code",
   "execution_count": 1,
   "id": "053ec881",
   "metadata": {},
   "outputs": [
    {
     "name": "stdout",
     "output_type": "stream",
     "text": [
      "3.9.6 (default, Aug  5 2022, 15:21:02) \n",
      "[Clang 14.0.0 (clang-1400.0.29.102)]\n"
     ]
    }
   ],
   "source": [
    "# These two lines below tell us what version of Python are we using. Sometimes, this is important to know. \n",
    "import sys\n",
    "print(sys.version)"
   ]
  },
  {
   "cell_type": "code",
   "execution_count": 2,
   "id": "28bef475",
   "metadata": {},
   "outputs": [
    {
     "name": "stdout",
     "output_type": "stream",
     "text": [
      "Hello!\n",
      "\"Hello!\"\n",
      "5\n"
     ]
    }
   ],
   "source": [
    "#print() is a useful first function to know. \n",
    "print(\"Hello!\")\n",
    "print(\"\\\"Hello!\\\"\")\n",
    "\n",
    "print(2+3)"
   ]
  },
  {
   "cell_type": "code",
   "execution_count": 3,
   "id": "7042c6df",
   "metadata": {},
   "outputs": [
    {
     "name": "stdout",
     "output_type": "stream",
     "text": [
      "2\n",
      "6\n"
     ]
    },
    {
     "data": {
      "text/plain": [
       "'\\nIn these 4 lines, x and y are \"variables\" and we are assigning some values to them. print is a \"function\". \\nx=2 is a statement which assigns the value 2 to x. print() is also a statement. \\nA statement is a unit of code that is executed. \\n\\n* is an operator. \\n\\ntriple quotes are for multi-line comments. \\n# is for single line comment. \\n'"
      ]
     },
     "execution_count": 3,
     "metadata": {},
     "output_type": "execute_result"
    }
   ],
   "source": [
    "# Python can also \"remember\" a bit.\n",
    "x=2\n",
    "print(x)\n",
    "y=x*3\n",
    "print(y)\n",
    "\n",
    "\"\"\"\n",
    "In these 4 lines, x and y are \"variables\" and we are assigning some values to them. print is a \"function\". \n",
    "x=2 is a statement which assigns the value 2 to x. print() is also a statement. \n",
    "A statement is a unit of code that is executed. \n",
    "\n",
    "* is an operator. \n",
    "\n",
    "triple quotes are for multi-line comments. \n",
    "# is for single line comment. \n",
    "\"\"\"\n"
   ]
  },
  {
   "cell_type": "code",
   "execution_count": 4,
   "id": "c45cb3ad",
   "metadata": {},
   "outputs": [
    {
     "name": "stdout",
     "output_type": "stream",
     "text": [
      "<class 'str'>\n",
      "<class 'int'>\n",
      "<class 'float'>\n"
     ]
    }
   ],
   "source": [
    "# Type of a variable can be known using the built in \"type\" function.\n",
    "\n",
    "x = \"123\"\n",
    "print(type(x))\n",
    "x = 1\n",
    "print(type(x))\n",
    "print(type(3.2))"
   ]
  },
  {
   "cell_type": "code",
   "execution_count": 5,
   "id": "dbcbcb30",
   "metadata": {},
   "outputs": [
    {
     "name": "stdout",
     "output_type": "stream",
     "text": [
      "1 0 0\n"
     ]
    }
   ],
   "source": [
    "\"\"\"\n",
    "When you type a large integer, you might be tempted to use commas between groups of three digits, \n",
    "as in 1,000,000. This is not an integer in Python, but it won't throw an error either:\n",
    "\"\"\"\n",
    "print(1,000,000)"
   ]
  },
  {
   "cell_type": "markdown",
   "id": "108e65a4",
   "metadata": {},
   "source": [
    "I am using x and y, but you can have any names for your variables, as long as you follow Python's naming rules.\n",
    "- They can contain both letters and numbers, but they cannot start with a number.  \n",
    "- Don't use one of [python's 35 \"keywords\"](https://www.w3schools.com/python/python_ref_keywords.asp) as your variable names.\n",
    "- Variables need to be defined first, before they can be used. \n",
    "\n",
    "Try running the lines below, and see what errors you get. "
   ]
  },
  {
   "cell_type": "code",
   "execution_count": 6,
   "id": "95c4de39",
   "metadata": {},
   "outputs": [
    {
     "ename": "SyntaxError",
     "evalue": "invalid syntax (943658999.py, line 1)",
     "output_type": "error",
     "traceback": [
      "\u001b[0;36m  Cell \u001b[0;32mIn [6], line 1\u001b[0;36m\u001b[0m\n\u001b[0;31m    76trombones = 'big parade'\u001b[0m\n\u001b[0m      ^\u001b[0m\n\u001b[0;31mSyntaxError\u001b[0m\u001b[0;31m:\u001b[0m invalid syntax\n"
     ]
    }
   ],
   "source": [
    "76trombones = 'big parade'\n"
   ]
  },
  {
   "cell_type": "code",
   "execution_count": 7,
   "id": "a9a3210a",
   "metadata": {},
   "outputs": [
    {
     "ename": "FileNotFoundError",
     "evalue": "[Errno 2] No such file or directory: '@ = 1000000'",
     "output_type": "error",
     "traceback": [
      "\u001b[0;31m---------------------------------------------------------------------------\u001b[0m",
      "\u001b[0;31mFileNotFoundError\u001b[0m                         Traceback (most recent call last)",
      "Cell \u001b[0;32mIn [7], line 1\u001b[0m\n\u001b[0;32m----> 1\u001b[0m \u001b[43mget_ipython\u001b[49m\u001b[43m(\u001b[49m\u001b[43m)\u001b[49m\u001b[38;5;241;43m.\u001b[39;49m\u001b[43mrun_line_magic\u001b[49m\u001b[43m(\u001b[49m\u001b[38;5;124;43m'\u001b[39;49m\u001b[38;5;124;43mmore\u001b[39;49m\u001b[38;5;124;43m'\u001b[39;49m\u001b[43m,\u001b[49m\u001b[43m \u001b[49m\u001b[38;5;124;43m'\u001b[39;49m\u001b[38;5;124;43m@ = 1000000\u001b[39;49m\u001b[38;5;124;43m'\u001b[39;49m\u001b[43m)\u001b[49m\n",
      "File \u001b[0;32m~/Library/Python/3.9/lib/python/site-packages/IPython/core/interactiveshell.py:2309\u001b[0m, in \u001b[0;36mInteractiveShell.run_line_magic\u001b[0;34m(self, magic_name, line, _stack_depth)\u001b[0m\n\u001b[1;32m   2307\u001b[0m     kwargs[\u001b[38;5;124m'\u001b[39m\u001b[38;5;124mlocal_ns\u001b[39m\u001b[38;5;124m'\u001b[39m] \u001b[38;5;241m=\u001b[39m \u001b[38;5;28mself\u001b[39m\u001b[38;5;241m.\u001b[39mget_local_scope(stack_depth)\n\u001b[1;32m   2308\u001b[0m \u001b[38;5;28;01mwith\u001b[39;00m \u001b[38;5;28mself\u001b[39m\u001b[38;5;241m.\u001b[39mbuiltin_trap:\n\u001b[0;32m-> 2309\u001b[0m     result \u001b[38;5;241m=\u001b[39m \u001b[43mfn\u001b[49m\u001b[43m(\u001b[49m\u001b[38;5;241;43m*\u001b[39;49m\u001b[43margs\u001b[49m\u001b[43m,\u001b[49m\u001b[43m \u001b[49m\u001b[38;5;241;43m*\u001b[39;49m\u001b[38;5;241;43m*\u001b[39;49m\u001b[43mkwargs\u001b[49m\u001b[43m)\u001b[49m\n\u001b[1;32m   2310\u001b[0m \u001b[38;5;28;01mreturn\u001b[39;00m result\n",
      "File \u001b[0;32m~/Library/Python/3.9/lib/python/site-packages/ipykernel/zmqshell.py:329\u001b[0m, in \u001b[0;36mKernelMagics.less\u001b[0;34m(self, arg_s)\u001b[0m\n\u001b[1;32m    327\u001b[0m     cont \u001b[38;5;241m=\u001b[39m \u001b[38;5;28mself\u001b[39m\u001b[38;5;241m.\u001b[39mshell\u001b[38;5;241m.\u001b[39mpycolorize(openpy\u001b[38;5;241m.\u001b[39mread_py_file(arg_s, skip_encoding_cookie\u001b[38;5;241m=\u001b[39m\u001b[38;5;28;01mFalse\u001b[39;00m))\n\u001b[1;32m    328\u001b[0m \u001b[38;5;28;01melse\u001b[39;00m:\n\u001b[0;32m--> 329\u001b[0m     cont \u001b[38;5;241m=\u001b[39m \u001b[38;5;28;43mopen\u001b[39;49m\u001b[43m(\u001b[49m\u001b[43marg_s\u001b[49m\u001b[43m)\u001b[49m\u001b[38;5;241m.\u001b[39mread()\n\u001b[1;32m    330\u001b[0m page\u001b[38;5;241m.\u001b[39mpage(cont)\n",
      "\u001b[0;31mFileNotFoundError\u001b[0m: [Errno 2] No such file or directory: '@ = 1000000'"
     ]
    }
   ],
   "source": [
    "more@ = 1000000\n"
   ]
  },
  {
   "cell_type": "code",
   "execution_count": 8,
   "id": "6dd3d13f",
   "metadata": {},
   "outputs": [
    {
     "ename": "SyntaxError",
     "evalue": "invalid syntax (3803549429.py, line 1)",
     "output_type": "error",
     "traceback": [
      "\u001b[0;36m  Cell \u001b[0;32mIn [8], line 1\u001b[0;36m\u001b[0m\n\u001b[0;31m    class = 'Advanced Theoretical Zymurgy'\u001b[0m\n\u001b[0m          ^\u001b[0m\n\u001b[0;31mSyntaxError\u001b[0m\u001b[0;31m:\u001b[0m invalid syntax\n"
     ]
    }
   ],
   "source": [
    "class = 'Advanced Theoretical Zymurgy'"
   ]
  },
  {
   "cell_type": "code",
   "execution_count": 9,
   "id": "272805f9",
   "metadata": {},
   "outputs": [
    {
     "ename": "NameError",
     "evalue": "name 'principle' is not defined",
     "output_type": "error",
     "traceback": [
      "\u001b[0;31m---------------------------------------------------------------------------\u001b[0m",
      "\u001b[0;31mNameError\u001b[0m                                 Traceback (most recent call last)",
      "Cell \u001b[0;32mIn [9], line 2\u001b[0m\n\u001b[1;32m      1\u001b[0m principal \u001b[38;5;241m=\u001b[39m \u001b[38;5;241m327.68\u001b[39m\n\u001b[0;32m----> 2\u001b[0m interest \u001b[38;5;241m=\u001b[39m \u001b[43mprinciple\u001b[49m \u001b[38;5;241m*\u001b[39m rate\n",
      "\u001b[0;31mNameError\u001b[0m: name 'principle' is not defined"
     ]
    }
   ],
   "source": [
    "principal = 327.68\n",
    "interest = principle * rate"
   ]
  },
  {
   "cell_type": "markdown",
   "id": "a7645f54",
   "metadata": {},
   "source": [
    "# Operators, Conditions and Loops\n",
    "\n",
    "(Chapter 3 and 5 in Py4E)"
   ]
  },
  {
   "cell_type": "code",
   "execution_count": 10,
   "id": "e86d03bc",
   "metadata": {},
   "outputs": [
    {
     "name": "stdout",
     "output_type": "stream",
     "text": [
      "True\n"
     ]
    },
    {
     "ename": "TypeError",
     "evalue": "'>=' not supported between instances of 'int' and 'str'",
     "output_type": "error",
     "traceback": [
      "\u001b[0;31m---------------------------------------------------------------------------\u001b[0m",
      "\u001b[0;31mTypeError\u001b[0m                                 Traceback (most recent call last)",
      "Cell \u001b[0;32mIn [10], line 11\u001b[0m\n\u001b[1;32m      9\u001b[0m \u001b[38;5;66;03m#note: you cannot compare two variables of different types like this. \u001b[39;00m\n\u001b[1;32m     10\u001b[0m z\u001b[38;5;241m=\u001b[39m\u001b[38;5;124m\"\u001b[39m\u001b[38;5;124ma\u001b[39m\u001b[38;5;124m\"\u001b[39m\n\u001b[0;32m---> 11\u001b[0m \u001b[38;5;28mprint\u001b[39m(\u001b[43mx\u001b[49m\u001b[43m \u001b[49m\u001b[38;5;241;43m>\u001b[39;49m\u001b[38;5;241;43m=\u001b[39;49m\u001b[43mz\u001b[49m)\n",
      "\u001b[0;31mTypeError\u001b[0m: '>=' not supported between instances of 'int' and 'str'"
     ]
    }
   ],
   "source": [
    "# the Boolean operator == compares two operands and produces True if they are equal and False otherwise\n",
    "5 == 5\n",
    "\"And\" == \"and\"\n",
    "\n",
    "x=3\n",
    "y=2\n",
    "print(x >= y)\n",
    "\n",
    "#note: you cannot compare two variables of different types like this. \n",
    "z=\"a\"\n",
    "print(x >=z)"
   ]
  },
  {
   "cell_type": "code",
   "execution_count": 11,
   "id": "22c7f915",
   "metadata": {},
   "outputs": [
    {
     "name": "stdout",
     "output_type": "stream",
     "text": [
      "False\n",
      "True\n"
     ]
    }
   ],
   "source": [
    "#Logical operators:\n",
    "\n",
    "a=3\n",
    "b=4\n",
    "c=5\n",
    "print(a>b and b>c)\n",
    "print(a<b and b<c)\n"
   ]
  },
  {
   "cell_type": "code",
   "execution_count": 12,
   "id": "03c09dfc",
   "metadata": {},
   "outputs": [
    {
     "name": "stdout",
     "output_type": "stream",
     "text": [
      "x is positive\n",
      "3\n"
     ]
    }
   ],
   "source": [
    "# Conditions:\n",
    "if x > 0 :\n",
    "    print('x is positive')\n",
    "    print(x)\n",
    "else:\n",
    "    print('x is not positive')"
   ]
  },
  {
   "cell_type": "markdown",
   "id": "bbad4baf",
   "metadata": {},
   "source": [
    "Where did this x come from? I did not declare it in this block. But it was declared earlier in this notebook. \n",
    "You can clear outputs of previous cells. If you clear it all, and run the above cell again, you will get an error, \n",
    "because there won't be a variable x."
   ]
  },
  {
   "cell_type": "markdown",
   "id": "2983b29f",
   "metadata": {},
   "source": [
    "Note the indentation. That is Python's way of grouping the code (some other languages use parantheses etc.)"
   ]
  },
  {
   "cell_type": "code",
   "execution_count": 13,
   "id": "4ff412d6",
   "metadata": {},
   "outputs": [
    {
     "name": "stdout",
     "output_type": "stream",
     "text": [
      "x is not positive\n"
     ]
    }
   ],
   "source": [
    "x = -12\n",
    "if x > 0 :\n",
    "    print('x is positive')\n",
    "    print(x)\n",
    "else:\n",
    "    print('x is not positive')"
   ]
  },
  {
   "cell_type": "markdown",
   "id": "f5fec4f0",
   "metadata": {},
   "source": [
    "You can write chained conditionals (if, elif, else) or nested conditionals (a conditional inside another conditional) too."
   ]
  },
  {
   "cell_type": "code",
   "execution_count": 14,
   "id": "94667460",
   "metadata": {},
   "outputs": [
    {
     "name": "stdout",
     "output_type": "stream",
     "text": [
      "Enter Fahrenheit Temperature:exit\n",
      "Exiting this loop\n"
     ]
    }
   ],
   "source": [
    "#Catching errors and acting on them.\n",
    "while True: #While is a keyword used to implement a loop.\n",
    "    inp = input('Enter Fahrenheit Temperature:')\n",
    "    #this takes input from the user. \n",
    "    try:\n",
    "        if inp == \"exit\":\n",
    "            print(\"Exiting this loop\")\n",
    "            break #Breaks out of the loop if we enter \"exit\"\n",
    "        fahr = float(inp)\n",
    "        cel = (fahr - 32.0) * 5.0 / 9.0\n",
    "        print(cel)\n",
    "    except:\n",
    "        print('Not a valid number. Please enter a valid number')\n",
    "\n",
    "# Code slightly edited from: http://www.py4e.com/code3/fahren2.py"
   ]
  },
  {
   "cell_type": "markdown",
   "id": "a8862b32",
   "metadata": {},
   "source": [
    "Loops are used to iterate through a piece of code (e.g., process a list of numbers or strings, enumerate a large list of items etc).  You can use a \"for\" loop or a \"while\" loop in Python. You can \"break\" out of a loop, or \"continue\". You can also easily fall into an infinite loop that never stops, if you make an error in programming your loop.\n",
    "\n",
    "Read [Chapter 5 in Py4e](https://www.py4e.com/html3/05-iterations) to get a good picture of what loops are and how to implement them."
   ]
  },
  {
   "cell_type": "markdown",
   "id": "47ff8f61",
   "metadata": {},
   "source": [
    "### Programming Exercise\n",
    "\n",
    "Do the exercises 1--3 in Chapter 3 and 1--2 in Chapter 5 of Py4E for practice."
   ]
  },
  {
   "cell_type": "markdown",
   "id": "56bee518",
   "metadata": {},
   "source": [
    "# Functions\n",
    "\n",
    "Chapter 4 in Py4E\n",
    "\n",
    "We repeated the same chunk of code twice in the two blocks that illustrated conditionals. Such repetitive code can be made into a \"Function\" for reuse. Stuff like \"print\" and \"type\" that we saw so far are built-in Python functions (there are several of them, and there are many more pre-implemented ones which we can install as libraries, import into our code and use)\n",
    "\n",
    "functions are defined using the def keyword.\n"
   ]
  },
  {
   "cell_type": "code",
   "execution_count": 15,
   "id": "8be48ea7",
   "metadata": {},
   "outputs": [],
   "source": [
    "#Here is a small function which takes a value and prints whether it is a positive or negative integer. \n",
    "def isPositive(x):\n",
    "    if type(x) == int:\n",
    "        if x > 0 :\n",
    "            print('x is positive')\n",
    "        else:\n",
    "            print('x is not positive')\n",
    "    else:\n",
    "        print(\"x is not an integer. So, there is no positive or negative.\")"
   ]
  },
  {
   "cell_type": "code",
   "execution_count": 16,
   "id": "78494a43",
   "metadata": {},
   "outputs": [
    {
     "name": "stdout",
     "output_type": "stream",
     "text": [
      "x is positive\n",
      "x is not an integer. So, there is no positive or negative.\n",
      "x is not positive\n"
     ]
    }
   ],
   "source": [
    "x = 24\n",
    "isPositive(x)\n",
    "x = \"a\"\n",
    "isPositive(x)\n",
    "x = -2\n",
    "isPositive(x)"
   ]
  },
  {
   "cell_type": "markdown",
   "id": "30db2b6a",
   "metadata": {},
   "source": [
    "Functions can sometimes \"return\" something instead of just printing outputs, which can be put to use for something else later. For example, consider the built-in function len. It returns an integer - length of the variable it takes as an input \"argument\". The following snippet illustrates how it works:"
   ]
  },
  {
   "cell_type": "code",
   "execution_count": 17,
   "id": "7e4f2b5b",
   "metadata": {},
   "outputs": [
    {
     "name": "stdout",
     "output_type": "stream",
     "text": [
      "5\n",
      "True\n"
     ]
    }
   ],
   "source": [
    "x = \"trial\"\n",
    "print(len(x))\n",
    "y = len(x)\n",
    "print(y > 4)"
   ]
  },
  {
   "cell_type": "code",
   "execution_count": 18,
   "id": "9287371c",
   "metadata": {},
   "outputs": [],
   "source": [
    "# Now, let me change the \"isPositive\" function to \"return\" something.\n",
    "#Here is a small function which takes a value and prints whether it is a positive or negative integer. \n",
    "def isPositive(x):\n",
    "    if type(x) == int:\n",
    "        if x > 0 :\n",
    "            return True\n",
    "        else:\n",
    "            return False\n",
    "    else:\n",
    "        print(\"x is not an integer. So, there is no positive or negative.\")\n",
    "        return None  #None is used to define a Null value in Python."
   ]
  },
  {
   "cell_type": "code",
   "execution_count": 19,
   "id": "9d71f541",
   "metadata": {},
   "outputs": [
    {
     "name": "stdout",
     "output_type": "stream",
     "text": [
      "We will see this message\n"
     ]
    }
   ],
   "source": [
    "x = 2\n",
    "if isPositive(x):\n",
    "    print(\"We will see this message\")\n",
    "else:\n",
    "    print(\"We won't see this message as long as we don't change x\")"
   ]
  },
  {
   "cell_type": "markdown",
   "id": "b7825d99",
   "metadata": {},
   "source": [
    "## Exercise:\n",
    "\n",
    "Read the Chapter 4 in Py4E and do the exercises in the end. "
   ]
  },
  {
   "cell_type": "markdown",
   "id": "e19809f8",
   "metadata": {},
   "source": [
    "# Reading and Writing text in python\n",
    "\n",
    "Chapter 7 in Py4E\n"
   ]
  },
  {
   "cell_type": "markdown",
   "id": "d3505ea4",
   "metadata": {},
   "source": [
    "When we want to read or write existing files (e.g., on your hard drive), we first must open it. Opening the file communicates with your operating system, which knows where the data for each file is stored. When you open a file, you are asking the operating system to find the file by name and make sure the file exists. In this example, we open the file mbox.txt, which should be stored in the same folder that you are in when you start Python. You can download this file from www.py4e.com/code3/mbox.txt\n",
    "\n",
    "Once you download the file and store it in the same folder as this Notebook, run the following code."
   ]
  },
  {
   "cell_type": "code",
   "execution_count": 25,
   "id": "5b556b0d",
   "metadata": {},
   "outputs": [
    {
     "name": "stdout",
     "output_type": "stream",
     "text": [
      "<_io.TextIOWrapper name='mbox.txt' mode='r' encoding='UTF-8'>\n"
     ]
    }
   ],
   "source": [
    "fhand = open('mbox.txt')\n",
    "print(fhand)\n"
   ]
  },
  {
   "cell_type": "markdown",
   "id": "203ec16f",
   "metadata": {},
   "source": [
    "If the open is successful, the operating system returns us a file handle. The file handle is not the actual data contained in the file, but instead it is a “handle” that we can use to read the data. You are given a handle if the requested file exists and you have the proper permissions to read the file.\n",
    "\n",
    "Now, let us print the first 10 lines of the file. "
   ]
  },
  {
   "cell_type": "code",
   "execution_count": 27,
   "id": "aef76e2f",
   "metadata": {},
   "outputs": [
    {
     "name": "stdout",
     "output_type": "stream",
     "text": [
      "\tby flawless.mail.umich.edu () with ESMTP id m05EEFR1013674;\n",
      "\n",
      "\tSat, 5 Jan 2008 09:14:15 -0500\n",
      "\n",
      "Received: FROM paploo.uhi.ac.uk (app1.prod.collab.uhi.ac.uk [194.35.219.184])\n",
      "\n",
      "\tBY holes.mr.itd.umich.edu ID 477F90B0.2DB2F.12494 ; \n",
      "\n",
      "\t 5 Jan 2008 09:14:10 -0500\n",
      "\n",
      "Received: from paploo.uhi.ac.uk (localhost [127.0.0.1])\n",
      "\n",
      "\tby paploo.uhi.ac.uk (Postfix) with ESMTP id 5F919BC2F2;\n",
      "\n",
      "\tSat,  5 Jan 2008 14:10:05 +0000 (GMT)\n",
      "\n",
      "Message-ID: <200801051412.m05ECIaH010327@nakamura.uits.iupui.edu>\n",
      "\n",
      "Mime-Version: 1.0\n",
      "\n"
     ]
    }
   ],
   "source": [
    "for i in range(0,10):\n",
    "    print(fhand.readline())\n",
    "fhand.close() #closes the file we opened. "
   ]
  },
  {
   "cell_type": "code",
   "execution_count": 32,
   "id": "cde0dfdd",
   "metadata": {},
   "outputs": [
    {
     "name": "stdout",
     "output_type": "stream",
     "text": [
      "6687002\n",
      "132045\n"
     ]
    }
   ],
   "source": [
    "fhand = open('mbox.txt')\n",
    "entire_contents = fhand.read()\n",
    "print(len(entire_contents)) #prints length in number of characters.\n",
    "fhand.close()\n",
    "\n",
    "fhand = open('mbox.txt')\n",
    "entire_contents = fhand.readlines()\n",
    "print(len(entire_contents)) #prints length in number of lines.\n",
    "fhand.close()\n",
    "\n",
    "#Why did I open the file twice here?? \n",
    "\n"
   ]
  },
  {
   "cell_type": "code",
   "execution_count": 35,
   "id": "86f87dd2",
   "metadata": {},
   "outputs": [],
   "source": [
    "#Writing into files.\n",
    "\n",
    "fhand = open(\"temp.txt\", \"w\")\n",
    "\n",
    "for i in range(0,10):\n",
    "    fhand.write(\"a line\")\n",
    "    fhand.write(\"\\n\")\n",
    "\n",
    "fhand.close()\n",
    "\n",
    "#Now, you will see a file temp.txt in this folder on your hard disk, with \"a line\" printed 10 times. "
   ]
  },
  {
   "cell_type": "markdown",
   "id": "e0a3604e",
   "metadata": {},
   "source": [
    "These are just a few basic file operations. Encoding of the text file can play an important role while handling text with accents, other scripts etc.\n"
   ]
  },
  {
   "cell_type": "markdown",
   "id": "93517101",
   "metadata": {},
   "source": [
    "# Python's data structures: Strings, Lists, Dictionaries, Tuples\n",
    "\n",
    "Chapters 6, 8, 9, 10 in Py4E"
   ]
  },
  {
   "cell_type": "markdown",
   "id": "016480c1",
   "metadata": {},
   "source": [
    "## Strings\n",
    "\n",
    "A string is a sequence of characters. You can access the characters one at a time with the bracket operator, by its index (starts at 0, not at 1, as you may have noticed earlier). We can traverse the string with a loop, \"slice\" a string, use some built-in string functions to do other operations on it, compare two strings etc.\n",
    "\n",
    "Here are some examples. \n",
    "\n"
   ]
  },
  {
   "cell_type": "code",
   "execution_count": 38,
   "id": "844681f1",
   "metadata": {},
   "outputs": [
    {
     "name": "stdout",
     "output_type": "stream",
     "text": [
      "b\n",
      "a\n",
      "a\n"
     ]
    },
    {
     "ename": "IndexError",
     "evalue": "string index out of range",
     "output_type": "error",
     "traceback": [
      "\u001b[0;31m---------------------------------------------------------------------------\u001b[0m",
      "\u001b[0;31mIndexError\u001b[0m                                Traceback (most recent call last)",
      "Cell \u001b[0;32mIn [38], line 7\u001b[0m\n\u001b[1;32m      5\u001b[0m \u001b[38;5;28mprint\u001b[39m(mystr[\u001b[38;5;241m1\u001b[39m])\n\u001b[1;32m      6\u001b[0m \u001b[38;5;28mprint\u001b[39m(mystr[\u001b[38;5;241m-\u001b[39m\u001b[38;5;241m1\u001b[39m]) \u001b[38;5;66;03m#not an error. See what happens\u001b[39;00m\n\u001b[0;32m----> 7\u001b[0m \u001b[38;5;28mprint\u001b[39m(\u001b[43mmystr\u001b[49m\u001b[43m[\u001b[49m\u001b[38;5;241;43m12\u001b[39;49m\u001b[43m]\u001b[49m)\n",
      "\u001b[0;31mIndexError\u001b[0m: string index out of range"
     ]
    }
   ],
   "source": [
    "mystr = \"banana\"\n",
    "\n",
    "#accesses characters by index:\n",
    "print(mystr[0])\n",
    "print(mystr[1])\n",
    "print(mystr[-1]) #not an error. See what happens\n",
    "print(mystr[12]) #error, because string isn't that long.\n"
   ]
  },
  {
   "cell_type": "code",
   "execution_count": 39,
   "id": "dda36501",
   "metadata": {},
   "outputs": [
    {
     "name": "stdout",
     "output_type": "stream",
     "text": [
      "6\n",
      "b\n",
      "a\n",
      "n\n",
      "a\n",
      "n\n",
      "a\n"
     ]
    }
   ],
   "source": [
    "\n",
    "#length of the string\n",
    "print(len(mystr))\n",
    "\n",
    "#prints all characters in the string one by one\n",
    "for character in mystr:\n",
    "    print(character)"
   ]
  },
  {
   "cell_type": "code",
   "execution_count": 42,
   "id": "49a4f129",
   "metadata": {},
   "outputs": [
    {
     "name": "stdout",
     "output_type": "stream",
     "text": [
      "Monty\n",
      "Python\n",
      "Mont\n",
      "ython\n"
     ]
    }
   ],
   "source": [
    "#slicing a string:\n",
    "s = 'Monty Python'\n",
    "print(s[0:5])\n",
    "print(s[6:12])\n",
    "\n",
    "#If you omit the first index (before the colon), the slice starts at the beginning of the string. \n",
    "#If you omit the second index, the slice goes to the end of the string:\n",
    "print(s[:4])\n",
    "print(s[7:])"
   ]
  },
  {
   "cell_type": "code",
   "execution_count": 43,
   "id": "41c0ca4d",
   "metadata": {},
   "outputs": [
    {
     "data": {
      "text/plain": [
       "True"
      ]
     },
     "execution_count": 43,
     "metadata": {},
     "output_type": "execute_result"
    }
   ],
   "source": [
    "# \"in\" operator\n",
    "\"on\" in s #checks if the substring \"on\" appears in s (\"Monty Python\")"
   ]
  },
  {
   "cell_type": "markdown",
   "id": "195507b0",
   "metadata": {},
   "source": [
    "There are a lot of pre-implemented string methods (i.e., functions that are tied to specific objects like strings).\n",
    "Some examples are in the [Python documentation](https://docs.python.org/3/library/stdtypes.html#string-methods). Here are a few:"
   ]
  },
  {
   "cell_type": "code",
   "execution_count": 44,
   "id": "2377950a",
   "metadata": {},
   "outputs": [
    {
     "name": "stdout",
     "output_type": "stream",
     "text": [
      "THIS IS A STRING WITH SOME SPACES, COMMAS, AND A FULL STOP.\n",
      "2\n",
      "True\n",
      "False\n"
     ]
    }
   ],
   "source": [
    "mystr = \"This is a string with some spaces, commas, and a full stop.\"\n",
    "print(mystr.upper())\n",
    "print(mystr.find(\"is\"))\n",
    "print(mystr.startswith(\"This\"))\n",
    "print(mystr.endswith(\"This\"))"
   ]
  },
  {
   "cell_type": "markdown",
   "id": "1290ba1c",
   "metadata": {},
   "source": [
    "There are a lot more. string is a useful data structure while working with NLP, for obvious reasons. Check out Chapter 6 in Py4E for a more detailed introduction, and try doing those exercies."
   ]
  },
  {
   "cell_type": "markdown",
   "id": "19a4e418",
   "metadata": {},
   "source": [
    "## Lists in Python\n",
    "\n",
    "Chapter 8 in Py4E\n",
    "\n",
    "Like a string, a list is a sequence of values. In a string, the values are characters; in a list, they can be any type. The values in list are called elements or sometimes items.\n",
    "\n",
    "There are several ways to create a new list; the simplest is to enclose the elements in square brackets []:\n",
    "\n",
    "We can use a loop to traverse a list, we can change elements in a list, and we can use a list within a list. We can concatenate two lists, append an item to a list, extend a list, slice it, and do a lot more! \n",
    "\n",
    "Lists are another very useful data structure while dealing with textual data. A string can also be made into a list of characters. \n",
    "\n",
    "Here are a few examples of using a list."
   ]
  },
  {
   "cell_type": "code",
   "execution_count": 46,
   "id": "c5d1ed09",
   "metadata": {},
   "outputs": [
    {
     "name": "stdout",
     "output_type": "stream",
     "text": [
      "12\n",
      "['a', 'string', 'with', 'some']\n",
      "This\n",
      "is\n",
      "a\n",
      "string\n",
      "with\n",
      "some\n",
      "spaces,\n",
      "commas,\n",
      "and\n",
      "a\n",
      "full\n",
      "stop.\n",
      "This\n",
      "is\n",
      "a\n",
      "string\n",
      "with\n",
      "some\n",
      "spaces,\n",
      "commas,\n",
      "and\n",
      "a\n",
      "full\n",
      "stop.\n",
      "['This', 'is', 'a', 'string', 'with', 'some', 'spaces,', 'commas,', 'and', 'a', 'full', 'stop.', 'adding this']\n",
      "['This', 'is', 'a', 'string', 'with', 'some', 'spaces,', 'commas,', 'and', 'a', 'full', 'stop.', 'adding this', ['adding', 'this']]\n",
      "['This', 'is', 'a', 'string', 'with', 'some', 'spaces,', 'commas,', 'and', 'a', 'full', 'stop.', 'adding this', ['adding', 'this'], 'adding', 'this']\n"
     ]
    }
   ],
   "source": [
    "mystr = \"This is a string with some spaces, commas, and a full stop.\"\n",
    "mylist = mystr.split(\" \") #splitting the string into a list, by space character\n",
    "\n",
    "print(len(mylist))\n",
    "print(mylist[2:6])\n",
    "\n",
    "for i in range(0, len(mylist)):\n",
    "    print(mylist[i])\n",
    "    \n",
    "for i in mylist:\n",
    "    print(i)\n",
    "    \n",
    "mylist.append(\"adding this\")\n",
    "print(mylist)\n",
    "\n",
    "mylist.append([\"adding\", \"this\"])\n",
    "print(mylist)\n",
    "\n",
    "mylist.extend([\"adding\", \"this\"])\n",
    "print(mylist)"
   ]
  },
  {
   "cell_type": "code",
   "execution_count": 47,
   "id": "36b82f62",
   "metadata": {},
   "outputs": [
    {
     "name": "stdout",
     "output_type": "stream",
     "text": [
      "[1, 2, 3, 'a', 'b', 'c']\n"
     ]
    }
   ],
   "source": [
    "alist = [1,2,3]\n",
    "blist = [\"a\",\"b\",\"c\"]\n",
    "print(alist+blist)\n"
   ]
  },
  {
   "cell_type": "code",
   "execution_count": 48,
   "id": "66b83fcd",
   "metadata": {},
   "outputs": [
    {
     "name": "stdout",
     "output_type": "stream",
     "text": [
      "['a', 'b', 'c', 'a', 'b', 'c', 'a', 'b', 'c']\n"
     ]
    }
   ],
   "source": [
    "print(blist*3)"
   ]
  },
  {
   "cell_type": "code",
   "execution_count": 51,
   "id": "3e5e1a79",
   "metadata": {},
   "outputs": [
    {
     "name": "stdout",
     "output_type": "stream",
     "text": [
      "This is an example\n",
      "['This', 'is', 'an', 'example']\n",
      "This is an example\n"
     ]
    }
   ],
   "source": [
    "mystr = \"This is an example\"\n",
    "mylist = mystr.split(\" \")\n",
    "mystr2 = \" \".join(mylist)\n",
    "print(mystr)\n",
    "print(mylist)\n",
    "print(mystr2)"
   ]
  },
  {
   "cell_type": "markdown",
   "id": "6d77fb37",
   "metadata": {},
   "source": [
    "There is ofcourse, a lot more than what I quickly introduced. Read Chapter 7 in Py4E and do the exercises. We can have some discussion early next week on these."
   ]
  },
  {
   "cell_type": "markdown",
   "id": "9935eefa",
   "metadata": {},
   "source": [
    "## Dictionaries\n",
    "\n",
    "You can think of a dictionary as a mapping between a set of indices (which are called keys) and a set of values. Each key maps to a value. The association of a key and a value is called a key-value pair or sometimes an item.\n",
    "\n",
    "As an example, we’ll build a dictionary that maps users with their email addresses.\n",
    "\n",
    "The function dict creates a new dictionary with no items. Because dict is the name of a built-in function, you should avoid using it as a variable name.\n",
    "\n"
   ]
  },
  {
   "cell_type": "code",
   "execution_count": 54,
   "id": "90138766",
   "metadata": {},
   "outputs": [
    {
     "name": "stdout",
     "output_type": "stream",
     "text": [
      "{}\n",
      "{'user1': 'user1@email.com', 'user2': 'user2@email.com'}\n",
      "{'user1': 'user1@email.com', 'user2': 'user2@email.com', 'user3': 'user3@gmail.com', 'user4': 'user4@gmail.com'}\n"
     ]
    }
   ],
   "source": [
    "emailmap = dict()\n",
    "print(emailmap)\n",
    "\n",
    "emailmap[\"user1\"] = \"user1@email.com\"\n",
    "emailmap[\"user2\"] = \"user2@email.com\"\n",
    "print(emailmap)\n",
    "\n",
    "emailmap.update({\"user3\":\"user3@gmail.com\", \"user4\":\"user4@gmail.com\"})\n",
    "print(emailmap)"
   ]
  },
  {
   "cell_type": "code",
   "execution_count": 55,
   "id": "39d62ab1",
   "metadata": {},
   "outputs": [
    {
     "name": "stdout",
     "output_type": "stream",
     "text": [
      "user1@email.com\n"
     ]
    },
    {
     "ename": "KeyError",
     "evalue": "'user5'",
     "output_type": "error",
     "traceback": [
      "\u001b[0;31m---------------------------------------------------------------------------\u001b[0m",
      "\u001b[0;31mKeyError\u001b[0m                                  Traceback (most recent call last)",
      "Cell \u001b[0;32mIn [55], line 2\u001b[0m\n\u001b[1;32m      1\u001b[0m \u001b[38;5;28mprint\u001b[39m(emailmap[\u001b[38;5;124m\"\u001b[39m\u001b[38;5;124muser1\u001b[39m\u001b[38;5;124m\"\u001b[39m])\n\u001b[0;32m----> 2\u001b[0m \u001b[38;5;28mprint\u001b[39m(\u001b[43memailmap\u001b[49m\u001b[43m[\u001b[49m\u001b[38;5;124;43m\"\u001b[39;49m\u001b[38;5;124;43muser5\u001b[39;49m\u001b[38;5;124;43m\"\u001b[39;49m\u001b[43m]\u001b[49m)\n",
      "\u001b[0;31mKeyError\u001b[0m: 'user5'"
     ]
    }
   ],
   "source": [
    "print(emailmap[\"user1\"])\n",
    "print(emailmap[\"user5\"]) #throws an error as there is no user5"
   ]
  },
  {
   "cell_type": "code",
   "execution_count": 56,
   "id": "48bdb60c",
   "metadata": {},
   "outputs": [
    {
     "name": "stdout",
     "output_type": "stream",
     "text": [
      "dict_keys(['user1', 'user2', 'user3', 'user4'])\n"
     ]
    }
   ],
   "source": [
    "print(emailmap.keys())"
   ]
  },
  {
   "cell_type": "code",
   "execution_count": 57,
   "id": "7b4b7ffb",
   "metadata": {},
   "outputs": [
    {
     "name": "stdout",
     "output_type": "stream",
     "text": [
      "dict_values(['user1@email.com', 'user2@email.com', 'user3@gmail.com', 'user4@gmail.com'])\n"
     ]
    }
   ],
   "source": [
    "print(emailmap.values())"
   ]
  },
  {
   "cell_type": "markdown",
   "id": "8d8f0a3b",
   "metadata": {},
   "source": [
    "You can use dictionaries, for example, to count frequency of words in a file (or a bunch of files). You can combine them with other python data structures and their methods, other python functions etc, to build pretty sophisticated programs already! I won't discuss further, but take a look at Chapters 9 and 10 in Py4E to get a fuller picture and try the exercises!"
   ]
  },
  {
   "cell_type": "markdown",
   "id": "809abada",
   "metadata": {},
   "source": [
    "# Concluding remarks:\n",
    "\n",
    "This is a really quick overview of the basics of Python programming. My goal is just to introduce the basic syntax, and the different building blocks of python code. With this, you will already be able to read some of the simpler python programs. In the next part of today's lecture, we will look into installing NLTK, one of the well known text processing libraries, and see how we can use it to do some preliminary corpus analysis. "
   ]
  }
 ],
 "metadata": {
  "kernelspec": {
   "display_name": "Python 3 (ipykernel)",
   "language": "python",
   "name": "python3"
  },
  "language_info": {
   "codemirror_mode": {
    "name": "ipython",
    "version": 3
   },
   "file_extension": ".py",
   "mimetype": "text/x-python",
   "name": "python",
   "nbconvert_exporter": "python",
   "pygments_lexer": "ipython3",
   "version": "3.9.6"
  }
 },
 "nbformat": 4,
 "nbformat_minor": 5
}
