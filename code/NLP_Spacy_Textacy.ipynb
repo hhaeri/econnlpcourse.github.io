{
 "cells": [
  {
   "cell_type": "markdown",
   "id": "9e3607dd",
   "metadata": {},
   "source": [
    "# Using off the shelf NLP tools with Spacy\n",
    "\n",
    "This notebook shows how to use some off the shelf NLP models for doing stuff like identifying key phrases, named entities, part of speech tagging, etc.  \n",
    "\n",
    "\n",
    "Based on: [\"Applied Language Technology MOOC\"](https://applied-language-technology.mooc.fi/html/notebooks/part_ii/03_basic_nlp.html)\n",
    "\n",
    "Let us start with installing two useful text processing libraries - spacy and textacy. Textacy is built on top of spacy, to add a few more NLP functionalities."
   ]
  },
  {
   "cell_type": "code",
   "execution_count": null,
   "id": "f9e1a167",
   "metadata": {},
   "outputs": [],
   "source": [
    "!pip install spacy\n",
    "!pip install textacy"
   ]
  },
  {
   "cell_type": "markdown",
   "id": "8e5b35d3",
   "metadata": {},
   "source": [
    "# Spacy\n",
    "\n",
    "I will start with Spacy first. To do anything with Spacy, you have to download the respective language model, which is already trained for performing several functions. I am downloading an English model. Full list for all supported languages is at: Full list at: https://spacy.io/models "
   ]
  },
  {
   "cell_type": "code",
   "execution_count": null,
   "id": "91d1c1d3",
   "metadata": {},
   "outputs": [],
   "source": [
    "#Download the required Spacy model. \n",
    "import spacy.cli\n",
    "\n",
    "#spacy.cli.download(\"en_core_web_trf\")\n",
    "#I won't run this as I already downloaded this model. "
   ]
  },
  {
   "cell_type": "code",
   "execution_count": null,
   "id": "0b6ce5db",
   "metadata": {},
   "outputs": [],
   "source": [
    "#Now, load the spacy model. \n",
    "import spacy\n",
    "nlp = spacy.load('en_core_web_trf')"
   ]
  },
  {
   "cell_type": "markdown",
   "id": "bdf11b7d",
   "metadata": {},
   "source": [
    "We have to convert any given string into spacy's document format to use its functions. nlp that we defined in the above line, does that for us."
   ]
  },
  {
   "cell_type": "code",
   "execution_count": null,
   "id": "1d48c38d",
   "metadata": {},
   "outputs": [],
   "source": [
    "text = \"Ludwig Maximilian University of Munich (also referred to as LMU or simply as the University of Munich; German: Ludwig-Maximilians-Universität München) is a public research university located in Munich, Germany, and is the country's sixth-oldest university in continuous operation.\"\n",
    "doc = nlp(text)"
   ]
  },
  {
   "cell_type": "code",
   "execution_count": null,
   "id": "2dd12b5c",
   "metadata": {},
   "outputs": [],
   "source": [
    "#Now, let us look at Spacy's tokenization for this text:\n",
    "for token in doc:\n",
    "    print(token)"
   ]
  },
  {
   "cell_type": "code",
   "execution_count": null,
   "id": "a92d20fb",
   "metadata": {},
   "outputs": [],
   "source": [
    "#Getting the part of speech tags for individual tokens\n",
    "for token in doc:\n",
    "    # Print the token and the POS tags\n",
    "    print(token, token.pos_, token.tag_)"
   ]
  },
  {
   "cell_type": "code",
   "execution_count": null,
   "id": "fea22c6c",
   "metadata": {},
   "outputs": [],
   "source": [
    "# Print the token and the results of morphological analysis\n",
    "for token in doc:\n",
    "    print(token, token.morph)"
   ]
  },
  {
   "cell_type": "code",
   "execution_count": null,
   "id": "05ac1a76",
   "metadata": {},
   "outputs": [],
   "source": [
    "#Get the per token morphological information\n",
    "#doc[7] is the word \"referred\" in our text\n",
    "print(doc[7])\n",
    "print(doc[7].morph.to_dict())"
   ]
  },
  {
   "cell_type": "code",
   "execution_count": null,
   "id": "7d3bf2ab",
   "metadata": {},
   "outputs": [],
   "source": [
    "#View the syntactic parse tree of the sentence to see relations between words\n",
    "from spacy import displacy\n",
    "displacy.render(doc, style='dep', options={'compact': True})\n"
   ]
  },
  {
   "cell_type": "code",
   "execution_count": null,
   "id": "9d25c844",
   "metadata": {},
   "outputs": [],
   "source": [
    "# Loop over sentences in the Doc object and count them using enumerate()\n",
    "# We have only one sentence in our doc, though. \n",
    "for number, sent in enumerate(doc.sents):    \n",
    "    print(number, sent)"
   ]
  },
  {
   "cell_type": "code",
   "execution_count": null,
   "id": "01113978",
   "metadata": {},
   "outputs": [],
   "source": [
    "# Print the token and its lemma\n",
    "for token in doc:\n",
    "    print(token, token.lemma_)"
   ]
  },
  {
   "cell_type": "code",
   "execution_count": null,
   "id": "206c17dc",
   "metadata": {},
   "outputs": [],
   "source": [
    "# Loop over the named entities in the Doc object \n",
    "for ent in doc.ents:\n",
    "    # Print the named entity and its label\n",
    "    print(ent.text, ent.label_)"
   ]
  },
  {
   "cell_type": "code",
   "execution_count": null,
   "id": "7a764560",
   "metadata": {},
   "outputs": [],
   "source": [
    "displacy.render(doc, style='ent')\n"
   ]
  },
  {
   "cell_type": "code",
   "execution_count": null,
   "id": "6a08e602",
   "metadata": {},
   "outputs": [],
   "source": [
    "# Get the noun chunks in the doc.\n",
    "for item in doc.noun_chunks:\n",
    "    print(item)"
   ]
  },
  {
   "cell_type": "markdown",
   "id": "ac3bf202",
   "metadata": {},
   "source": [
    "# Textacy\n",
    "\n",
    "ref: https://textacy.readthedocs.io/en/latest/quickstart.html\n"
   ]
  },
  {
   "cell_type": "code",
   "execution_count": null,
   "id": "20472fc8",
   "metadata": {},
   "outputs": [],
   "source": [
    "#import it!\n",
    "import textacy"
   ]
  },
  {
   "cell_type": "code",
   "execution_count": null,
   "id": "596d8566",
   "metadata": {},
   "outputs": [],
   "source": [
    "text2 = \"\"\"\n",
    "Deep learning (also known as deep structured learning) is part of a broader family of machine learning methods based on artificial neural networks with representation learning. Learning can be supervised, semi-supervised or unsupervised.[2]\n",
    "\n",
    "Deep-learning architectures such as deep neural networks, deep belief networks, deep reinforcement learning, recurrent neural networks, convolutional neural networks and Transformers have been applied to fields including computer vision, speech recognition, natural language processing, machine translation, bioinformatics, drug design, medical image analysis, climate science, material inspection and board game programs, where they have produced results comparable to and in some cases surpassing human expert performance\n",
    "\"\"\""
   ]
  },
  {
   "cell_type": "code",
   "execution_count": null,
   "id": "f12d9580",
   "metadata": {},
   "outputs": [],
   "source": [
    "text2"
   ]
  },
  {
   "cell_type": "code",
   "execution_count": null,
   "id": "57af1889",
   "metadata": {},
   "outputs": [],
   "source": [
    "#we still have to convert to a spacy doc, even when using textacy.\n",
    "# so we have to load a spacy model first and then use it to convert.\n",
    "en = textacy.load_spacy_lang(\"en_core_web_trf\", disable=(\"parser\",))\n",
    "tdoc = textacy.make_spacy_doc(text2, en)"
   ]
  },
  {
   "cell_type": "code",
   "execution_count": null,
   "id": "0316f05b",
   "metadata": {},
   "outputs": [],
   "source": [
    "list(textacy.extract.ngrams(tdoc, 3, filter_stops=True, filter_punct=True, filter_nums=False))"
   ]
  },
  {
   "cell_type": "markdown",
   "id": "fb1b83d3",
   "metadata": {},
   "source": [
    "## key phrase extraction\n",
    "\n",
    "Textacy supports several key phrase extraction algorithms. "
   ]
  },
  {
   "cell_type": "code",
   "execution_count": null,
   "id": "60b2b85a",
   "metadata": {},
   "outputs": [],
   "source": [
    "from textacy.extract import keyterms as kt\n",
    "kt.textrank(tdoc, normalize=\"lemma\", topn=10)"
   ]
  },
  {
   "cell_type": "markdown",
   "id": "369496cc",
   "metadata": {},
   "source": [
    "check textacy's documentation to know more. It also supports a few other languages, and key phrase extraction could be a very useful function to know about."
   ]
  },
  {
   "cell_type": "code",
   "execution_count": null,
   "id": "e2154f7e",
   "metadata": {},
   "outputs": [],
   "source": [
    "You can explore a few other NLP models in the demos at: https://huggingface.co/"
   ]
  }
 ],
 "metadata": {
  "kernelspec": {
   "display_name": "Python 3 (ipykernel)",
   "language": "python",
   "name": "python3"
  },
  "language_info": {
   "codemirror_mode": {
    "name": "ipython",
    "version": 3
   },
   "file_extension": ".py",
   "mimetype": "text/x-python",
   "name": "python",
   "nbconvert_exporter": "python",
   "pygments_lexer": "ipython3",
   "version": "3.9.6"
  }
 },
 "nbformat": 4,
 "nbformat_minor": 5
}
